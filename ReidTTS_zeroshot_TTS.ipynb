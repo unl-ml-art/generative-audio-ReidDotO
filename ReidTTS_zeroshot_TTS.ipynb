{
 "cells": [
  {
   "cell_type": "markdown",
   "metadata": {},
   "source": [
    "EMAR349 ML for the Arts - Twomey - Spring 2022 - [ml.roberttwomey.com](http://ml.roberttwomey.com)"
   ]
  },
  {
   "cell_type": "markdown",
   "metadata": {
    "id": "SXNKDE_BW-Kc"
   },
   "source": [
    "# Demo zero-shot TTS with YourTTS\n",
    "\n",
    "__NOTE for OOD users__: select the `tf-gpu-yourtts` kernel.\n",
    "\n",
    "Casanova et. al, [YourTTS: Zero-Shot Multi-Speaker Text Synthesis and Voice Conversion](https://coqui.ai/blog/tts/yourtts-zero-shot-text-synthesis-low-resource-languages) (2022). \n",
    "\n",
    "Adapted from [colab example](https://colab.research.google.com/drive/1ftI0x16iqKgiQFgTjTDgRpOM1wC1U-yS?usp=sharing) to run on HCC OOD, rtwomey@unl.edu 2022"
   ]
  },
  {
   "cell_type": "markdown",
   "metadata": {
    "id": "33efzXGOWDx3"
   },
   "source": [
    "## TTS Model setup"
   ]
  },
  {
   "cell_type": "markdown",
   "metadata": {
    "id": "79YIRAJiUdE9"
   },
   "source": [
    "### Download and install Coqui TTS (__run once__)\n"
   ]
  },
  {
   "cell_type": "code",
   "execution_count": 1,
   "metadata": {
    "colab": {
     "base_uri": "https://localhost:8080/"
    },
    "id": "2akFqoi7UiD4",
    "outputId": "fd7a043b-77b6-44bf-c74f-09bbdeb2267b"
   },
   "outputs": [
    {
     "name": "stdout",
     "output_type": "stream",
     "text": [
      "Cloning into 'TTS'...\n",
      "remote: Enumerating objects: 25680, done.\u001b[K\n",
      "remote: Counting objects: 100% (1615/1615), done.\u001b[K\n",
      "remote: Compressing objects: 100% (488/488), done.\u001b[K\n",
      "remote: Total 25680 (delta 1182), reused 1397 (delta 1116), pack-reused 24065\u001b[K\n",
      "Receiving objects: 100% (25680/25680), 133.85 MiB | 43.36 MiB/s, done.\n",
      "Resolving deltas: 100% (18698/18698), done.\n"
     ]
    }
   ],
   "source": [
    "!git clone https://github.com/Edresson/Coqui-TTS -b multilingual-torchaudio-SE TTS\n",
    "# !pip install -q -e TTS/\n",
    "# !pip install -q torchaudio==0.9.0"
   ]
  },
  {
   "cell_type": "markdown",
   "metadata": {
    "id": "PaL5ju9sWPUO"
   },
   "source": [
    "### Download TTS Checkpoint\n",
    "\n",
    "__NOTE:__ I have downloaded all of these to `/home/emar349/shared/yourtts`"
   ]
  },
  {
   "cell_type": "code",
   "execution_count": 2,
   "metadata": {
    "colab": {
     "base_uri": "https://localhost:8080/"
    },
    "id": "yICxxOSZWYJb",
    "outputId": "401afa88-c970-40f4-8a65-1e98c4a5ba8e"
   },
   "outputs": [],
   "source": [
    "# # TTS checkpoints\n",
    "\n",
    "# # download config  \n",
    "# ! gdown --id 1-PfXD66l1ZpsZmJiC-vhL055CDSugLyP\n",
    "# # download language json \n",
    "# ! gdown --id 1_Vb2_XHqcC0OcvRF82F883MTxfTRmerg\n",
    "# # download speakers json\n",
    "# ! gdown --id 1SZ9GE0CBM-xGstiXH2-O2QWdmSXsBKdC -O speakers.json\n",
    "# # download checkpoint\n",
    "# ! gdown --id 1sgEjHt0lbPSEw9-FSbC_mBoOPwNi87YR -O best_model.pth.tar  "
   ]
  },
  {
   "cell_type": "markdown",
   "metadata": {
    "id": "f1sw5nDwXWRJ"
   },
   "source": [
    "### Imports"
   ]
  },
  {
   "cell_type": "code",
   "execution_count": 3,
   "metadata": {
    "id": "ajwcjsizXYF9"
   },
   "outputs": [
    {
     "name": "stderr",
     "output_type": "stream",
     "text": [
      "/work/emar349/shared/envs/tf-gpu-yourtts/lib/python3.8/site-packages/tqdm/auto.py:22: TqdmWarning: IProgress not found. Please update jupyter and ipywidgets. See https://ipywidgets.readthedocs.io/en/stable/user_install.html\n",
      "  from .autonotebook import tqdm as notebook_tqdm\n",
      "/work/emar349/shared/envs/tf-gpu-yourtts/lib/python3.8/site-packages/torchaudio/backend/utils.py:53: UserWarning: \"sox\" backend is being deprecated. The default backend will be changed to \"sox_io\" backend in 0.8.0 and \"sox\" backend will be removed in 0.9.0. Please migrate to \"sox_io\" backend. Please refer to https://github.com/pytorch/audio/issues/903 for the detail.\n",
      "  warnings.warn(\n"
     ]
    }
   ],
   "source": [
    "import sys\n",
    "TTS_PATH = \"TTS/\"\n",
    "\n",
    "# add libraries into environment\n",
    "sys.path.append(TTS_PATH) # set this if TTS is not installed globally\n",
    "\n",
    "import os\n",
    "import string\n",
    "import time\n",
    "import argparse\n",
    "import json\n",
    "\n",
    "import numpy as np\n",
    "import IPython\n",
    "from IPython.display import Audio\n",
    "\n",
    "\n",
    "import torch\n",
    "\n",
    "from TTS.tts.utils.synthesis import synthesis\n",
    "from TTS.tts.utils.text.symbols import make_symbols, phonemes, symbols\n",
    "try:\n",
    "  from TTS.utils.audio import AudioProcessor\n",
    "except:\n",
    "  from TTS.utils.audio import AudioProcessor\n",
    "\n",
    "\n",
    "from TTS.tts.models import setup_model\n",
    "from TTS.config import load_config\n",
    "from TTS.tts.models.vits import *"
   ]
  },
  {
   "cell_type": "markdown",
   "metadata": {
    "id": "vE3EDJyZXecO"
   },
   "source": [
    "### Paths definition\n",
    "\n",
    "I already downloaded the trained model checkpoints and stored the files and hyperparams in the shared path (`/home/emar349/shared/yourtts`)"
   ]
  },
  {
   "cell_type": "code",
   "execution_count": 4,
   "metadata": {
    "id": "T8NWL6h2XiBP"
   },
   "outputs": [],
   "source": [
    "OUT_PATH = 'out/'\n",
    "WAV_PATH = 'wav/'\n",
    "SHARED_PATH = \"/home/emar349/shared/yourtts/\"\n",
    "# create output path\n",
    "os.makedirs(OUT_PATH, exist_ok=True)\n",
    "os.makedirs(WAV_PATH, exist_ok=True)\n",
    "\n",
    "# model vars \n",
    "MODEL_PATH = os.path.join(SHARED_PATH, 'best_model.pth.tar')\n",
    "CONFIG_PATH = os.path.join(SHARED_PATH, 'config.json')\n",
    "TTS_LANGUAGES = os.path.join(SHARED_PATH, \"language_ids.json\")\n",
    "TTS_SPEAKERS = os.path.join(SHARED_PATH, \"speakers.json\")\n",
    "USE_CUDA = torch.cuda.is_available()"
   ]
  },
  {
   "cell_type": "markdown",
   "metadata": {
    "id": "ZVTFLUVIacVG"
   },
   "source": [
    "### Restore model"
   ]
  },
  {
   "cell_type": "code",
   "execution_count": 5,
   "metadata": {
    "colab": {
     "base_uri": "https://localhost:8080/"
    },
    "id": "ygPFBC-UafNK",
    "outputId": "cf1e3730-9e9d-42dc-bba6-a0edc19fad99"
   },
   "outputs": [
    {
     "name": "stdout",
     "output_type": "stream",
     "text": [
      " > Setting up Audio Processor...\n",
      " | > sample_rate:16000\n",
      " | > resample:False\n",
      " | > num_mels:80\n",
      " | > min_level_db:-100\n",
      " | > frame_shift_ms:None\n",
      " | > frame_length_ms:None\n",
      " | > ref_level_db:20\n",
      " | > fft_size:1024\n",
      " | > power:1.5\n",
      " | > preemphasis:0.0\n",
      " | > griffin_lim_iters:60\n",
      " | > signal_norm:False\n",
      " | > symmetric_norm:True\n",
      " | > mel_fmin:0\n",
      " | > mel_fmax:None\n",
      " | > spec_gain:1.0\n",
      " | > stft_pad_mode:reflect\n",
      " | > max_norm:4.0\n",
      " | > clip_norm:True\n",
      " | > do_trim_silence:True\n",
      " | > trim_db:45\n",
      " | > do_sound_norm:False\n",
      " | > do_amp_to_db_linear:False\n",
      " | > do_amp_to_db_mel:True\n",
      " | > stats_path:None\n",
      " | > base:2.718281828459045\n",
      " | > hop_length:256\n",
      " | > win_length:1024\n",
      " > Using model: vits\n",
      " > Speaker manager is loaded with 6 speakers: female-en-5, female-en-5\n",
      ", female-pt-4\n",
      ", male-en-2, male-en-2\n",
      ", male-pt-3\n",
      "\n"
     ]
    }
   ],
   "source": [
    "# load the config\n",
    "C = load_config(CONFIG_PATH)\n",
    "\n",
    "\n",
    "# load the audio processor\n",
    "ap = AudioProcessor(**C.audio)\n",
    "\n",
    "speaker_embedding = None\n",
    "\n",
    "C.model_args['d_vector_file'] = TTS_SPEAKERS\n",
    "C.model_args['use_speaker_encoder_as_loss'] = False\n",
    "\n",
    "model = setup_model(C)\n",
    "model.language_manager.set_language_ids_from_file(TTS_LANGUAGES)\n",
    "# print(model.language_manager.num_languages, model.embedded_language_dim)\n",
    "# print(model.emb_l)\n",
    "cp = torch.load(MODEL_PATH, map_location=torch.device('cpu'))\n",
    "# remove speaker encoder\n",
    "model_weights = cp['model'].copy()\n",
    "for key in list(model_weights.keys()):\n",
    "  if \"speaker_encoder\" in key:\n",
    "    del model_weights[key]\n",
    "\n",
    "model.load_state_dict(model_weights)\n",
    "\n",
    "\n",
    "model.eval()\n",
    "\n",
    "if USE_CUDA:\n",
    "    model = model.cuda()\n",
    "\n",
    "# synthesize voice\n",
    "use_griffin_lim = False"
   ]
  },
  {
   "cell_type": "markdown",
   "metadata": {
    "id": "uSgpKI-ZcVbx"
   },
   "source": [
    "## Speaker encoder setup"
   ]
  },
  {
   "cell_type": "markdown",
   "metadata": {
    "id": "P3TaCzONgyND"
   },
   "source": [
    "### Install helper libraries"
   ]
  },
  {
   "cell_type": "code",
   "execution_count": 6,
   "metadata": {
    "id": "mfnuqL4Zd4Zz"
   },
   "outputs": [],
   "source": [
    "# ! pip install -q pydub ffmpeg-normalize"
   ]
  },
  {
   "cell_type": "markdown",
   "metadata": {
    "id": "HJkRPcD9g2nl"
   },
   "source": [
    "### Paths definition\n",
    "\n",
    "__NOTE:__ I have downloaded these to `/home/emar349/shared/yourtts`"
   ]
  },
  {
   "cell_type": "code",
   "execution_count": 7,
   "metadata": {
    "colab": {
     "base_uri": "https://localhost:8080/"
    },
    "id": "7fRFfyZFeKuR",
    "outputId": "08395763-77c7-46de-8447-0aa1f69d0778"
   },
   "outputs": [],
   "source": [
    "CONFIG_SE_PATH = MODEL_PATH = os.path.join(SHARED_PATH, \"config_se.json\")\n",
    "CHECKPOINT_SE_PATH = MODEL_PATH = os.path.join(SHARED_PATH, \"SE_checkpoint.pth.tar\")\n",
    "\n",
    "# # download config \n",
    "# !gdown --id  19cDrhZZ0PfKf2Zhr_ebB-QASRw844Tn1 -O $CONFIG_SE_PATH\n",
    "# # download checkpoint  \n",
    "# !gdown --id   17JsW6h6TIh7-LkU2EvB_gnNrPcdBxt7X -O $CHECKPOINT_SE_PATH"
   ]
  },
  {
   "cell_type": "markdown",
   "metadata": {
    "id": "xYZ9YC_LhAjY"
   },
   "source": [
    "### Imports"
   ]
  },
  {
   "cell_type": "code",
   "execution_count": 8,
   "metadata": {
    "id": "qnWyPs7Vfxa2"
   },
   "outputs": [
    {
     "name": "stderr",
     "output_type": "stream",
     "text": [
      "/work/emar349/shared/envs/tf-gpu-yourtts/lib/python3.8/site-packages/pydub/utils.py:170: RuntimeWarning: Couldn't find ffmpeg or avconv - defaulting to ffmpeg, but may not work\n",
      "  warn(\"Couldn't find ffmpeg or avconv - defaulting to ffmpeg, but may not work\", RuntimeWarning)\n"
     ]
    }
   ],
   "source": [
    "from TTS.tts.utils.speakers import SpeakerManager\n",
    "from pydub import AudioSegment\n",
    "import librosa"
   ]
  },
  {
   "cell_type": "markdown",
   "metadata": {
    "id": "CHUPL0TahHjZ"
   },
   "source": [
    "### Load the Speaker encoder"
   ]
  },
  {
   "cell_type": "code",
   "execution_count": 9,
   "metadata": {
    "colab": {
     "base_uri": "https://localhost:8080/"
    },
    "id": "xnkL2GNXhLUs",
    "outputId": "8f759989-de20-409c-d412-330e8e5f557a"
   },
   "outputs": [
    {
     "name": "stdout",
     "output_type": "stream",
     "text": [
      " > Setting up Audio Processor...\n",
      " | > sample_rate:16000\n",
      " | > resample:False\n",
      " | > num_mels:64\n",
      " | > min_level_db:-100\n",
      " | > frame_shift_ms:None\n",
      " | > frame_length_ms:None\n",
      " | > ref_level_db:20\n",
      " | > fft_size:512\n",
      " | > power:1.5\n",
      " | > preemphasis:0.97\n",
      " | > griffin_lim_iters:60\n",
      " | > signal_norm:False\n",
      " | > symmetric_norm:False\n",
      " | > mel_fmin:0\n",
      " | > mel_fmax:8000.0\n",
      " | > spec_gain:20.0\n",
      " | > stft_pad_mode:reflect\n",
      " | > max_norm:4.0\n",
      " | > clip_norm:False\n",
      " | > do_trim_silence:False\n",
      " | > trim_db:60\n",
      " | > do_sound_norm:False\n",
      " | > do_amp_to_db_linear:True\n",
      " | > do_amp_to_db_mel:True\n",
      " | > stats_path:None\n",
      " | > base:10\n",
      " | > hop_length:160\n",
      " | > win_length:400\n"
     ]
    }
   ],
   "source": [
    "SE_speaker_manager = SpeakerManager(encoder_model_path=CHECKPOINT_SE_PATH, encoder_config_path=CONFIG_SE_PATH, use_cuda=USE_CUDA)"
   ]
  },
  {
   "cell_type": "markdown",
   "metadata": {
    "id": "yc-OM81nhDDe"
   },
   "source": [
    "###Define helper function"
   ]
  },
  {
   "cell_type": "code",
   "execution_count": 10,
   "metadata": {
    "id": "YRvXOFPKgVLi"
   },
   "outputs": [],
   "source": [
    "def compute_spec(ref_file):\n",
    "  y, sr = librosa.load(ref_file, sr=ap.sample_rate)\n",
    "  spec = ap.spectrogram(y)\n",
    "  spec = torch.FloatTensor(spec).unsqueeze(0)\n",
    "  return spec"
   ]
  },
  {
   "cell_type": "markdown",
   "metadata": {
    "id": "2KgvuzFRaql-"
   },
   "source": [
    "## TTS"
   ]
  },
  {
   "cell_type": "markdown",
   "metadata": {
    "id": "WjH5EW-E3jh1"
   },
   "source": [
    "### Upload, normalize and resample your reference wav files"
   ]
  },
  {
   "attachments": {
    "23ef7a2c-17df-4e21-b414-75494a40ef8a.png": {
     "image/png": "[encoded data removed]"
    }
   },
   "cell_type": "markdown",
   "metadata": {
    "id": "KugzDPUbYtgM"
   },
   "source": [
    "Please upload wav files to `wav` folder at left. Aim for 40-120 seconds of audio, minimum. More audio may not be better (this is \"zero shot learning\", but you can explore.\n",
    "\n",
    "![image.png](attachment:23ef7a2c-17df-4e21-b414-75494a40ef8a.png)"
   ]
  },
  {
   "cell_type": "code",
   "execution_count": 11,
   "metadata": {},
   "outputs": [
    {
     "name": "stdout",
     "output_type": "stream",
     "text": [
      "['wav/clip7.wav', 'wav/clip6.wav', 'wav/clip1.wav', 'wav/clip8.wav', 'wav/clip2.wav', 'wav/clip5.wav', 'wav/clip4.wav', 'wav/clip3.wav']\n"
     ]
    }
   ],
   "source": [
    "from os import listdir\n",
    "from os.path import isfile, join\n",
    "\n",
    "mypath = \"wav\"\n",
    "reference_files = [join(mypath, f) for f in listdir(mypath) if isfile(join(mypath, f))]\n",
    "print(reference_files)"
   ]
  },
  {
   "cell_type": "markdown",
   "metadata": {},
   "source": [
    "normalization does not work yet on OOD"
   ]
  },
  {
   "cell_type": "code",
   "execution_count": 12,
   "metadata": {
    "colab": {
     "base_uri": "https://localhost:8080/",
     "height": 90,
     "resources": {
      "http://localhost:8080/nbextensions/google.colab/files.js": {
       "data": "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",
       "headers": [
        [
         "content-type",
         "application/javascript"
        ]
       ],
       "ok": true,
       "status": 200,
       "status_text": ""
      }
     }
    },
    "id": "vqUWMEZc2Biz",
    "outputId": "9ed6bb35-de30-4b03-e7eb-444595a8d4cb"
   },
   "outputs": [],
   "source": [
    "# for sample in reference_files:\n",
    "#     !ffmpeg-normalize $sample -nt rms -t=-27 -o $sample -ar 16000 -f"
   ]
  },
  {
   "cell_type": "markdown",
   "metadata": {
    "id": "zA-2jVOR3oCQ"
   },
   "source": [
    "### Compute embedding"
   ]
  },
  {
   "cell_type": "code",
   "execution_count": 13,
   "metadata": {
    "id": "Ag_LhDHc2H61"
   },
   "outputs": [
    {
     "name": "stderr",
     "output_type": "stream",
     "text": [
      "/work/emar349/shared/envs/tf-gpu-yourtts/lib/python3.8/site-packages/torch/functional.py:515: UserWarning: stft will require the return_complex parameter be explicitly  specified in a future PyTorch release. Use return_complex=False  to preserve the current behavior or return_complex=True to return  a complex output. (Triggered internally at  /opt/conda/conda-bld/pytorch_1607370117127/work/aten/src/ATen/native/SpectralOps.cpp:653.)\n",
      "  return _VF.stft(input, n_fft, hop_length, win_length, window,  # type: ignore\n",
      "/work/emar349/shared/envs/tf-gpu-yourtts/lib/python3.8/site-packages/torch/functional.py:515: UserWarning: The function torch.rfft is deprecated and will be removed in a future PyTorch release. Use the new torch.fft module functions, instead, by importing torch.fft and calling torch.fft.fft or torch.fft.rfft. (Triggered internally at  /opt/conda/conda-bld/pytorch_1607370117127/work/aten/src/ATen/native/SpectralOps.cpp:590.)\n",
      "  return _VF.stft(input, n_fft, hop_length, win_length, window,  # type: ignore\n"
     ]
    }
   ],
   "source": [
    "reference_emb = SE_speaker_manager.compute_d_vector_from_clip(reference_files)"
   ]
  },
  {
   "cell_type": "markdown",
   "metadata": {
    "id": "boZL8mW03uWm"
   },
   "source": [
    "### Define inference variables"
   ]
  },
  {
   "cell_type": "code",
   "execution_count": 166,
   "metadata": {
    "id": "XtPraqy3augC",
    "tags": []
   },
   "outputs": [],
   "source": [
    "model.length_scale = 1.25  # scaler for the duration predictor. The larger it is, the slower the speech.\n",
    "model.inference_noise_scale = 0.2 # defines the noise variance applied to the random z vector at inference.\n",
    "model.inference_noise_scale_dp = 0.3 # defines the noise variance applied to the duration predictor z vector at inference.\n",
    "text = \"SUB TO REED DOT Oh. RIGHT NOW!\""
   ]
  },
  {
   "cell_type": "markdown",
   "metadata": {
    "id": "Ie4fU3Oz330K"
   },
   "source": [
    "### Chose language id"
   ]
  },
  {
   "cell_type": "code",
   "execution_count": 167,
   "metadata": {
    "colab": {
     "base_uri": "https://localhost:8080/"
    },
    "id": "YDgjXG0DbLWN",
    "outputId": "9e3f28e9-ccd5-4584-be5d-26ae2300158b"
   },
   "outputs": [
    {
     "data": {
      "text/plain": [
       "{'en': 0, 'fr-fr': 1, 'pt-br': 2}"
      ]
     },
     "execution_count": 167,
     "metadata": {},
     "output_type": "execute_result"
    }
   ],
   "source": [
    "model.language_manager.language_id_mapping"
   ]
  },
  {
   "cell_type": "code",
   "execution_count": 168,
   "metadata": {
    "id": "tdCvHScgbmim"
   },
   "outputs": [],
   "source": [
    "language_id = 0"
   ]
  },
  {
   "cell_type": "markdown",
   "metadata": {
    "id": "u9F1nRKo4Sgz"
   },
   "source": [
    "### Sythesis"
   ]
  },
  {
   "cell_type": "code",
   "execution_count": 169,
   "metadata": {
    "colab": {
     "base_uri": "https://localhost:8080/",
     "height": 127
    },
    "id": "5hCmeGiNbRi3",
    "outputId": "dddbcd50-a570-47ee-f94d-7a3f9acf5706"
   },
   "outputs": [
    {
     "name": "stdout",
     "output_type": "stream",
     "text": [
      " > text: SUB TO REED DOT Oh. RIGHT NOW!\n",
      "Generated Audio\n"
     ]
    },
    {
     "data": {
      "text/html": [
       "\n",
       "                <audio  controls=\"controls\" >\n",
       "                    <source src=\"data:audio/wav;base64,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\" type=\"audio/wav\" />\n",
       "                    Your browser does not support the audio element.\n",
       "                </audio>\n",
       "              "
      ],
      "text/plain": [
       "<IPython.lib.display.Audio object>"
      ]
     },
     "metadata": {},
     "output_type": "display_data"
    },
    {
     "name": "stdout",
     "output_type": "stream",
     "text": [
      " > Saving output to out/SUB_TO_REED_DOT_Oh_RIGHT_NOW.wav\n"
     ]
    }
   ],
   "source": [
    "print(\" > text: {}\".format(text))\n",
    "wav, alignment, _, _ = synthesis(\n",
    "                    model,\n",
    "                    text,\n",
    "                    C,\n",
    "                    \"cuda\" in str(next(model.parameters()).device),\n",
    "                    ap,\n",
    "                    speaker_id=None,\n",
    "                    d_vector=reference_emb,\n",
    "                    style_wav=None,\n",
    "                    language_id=language_id,\n",
    "                    enable_eos_bos_chars=C.enable_eos_bos_chars,\n",
    "                    use_griffin_lim=True,\n",
    "                    do_trim_silence=False,\n",
    "                ).values()\n",
    "print(\"Generated Audio\")\n",
    "IPython.display.display(Audio(wav, rate=ap.sample_rate))\n",
    "file_name = text.replace(\" \", \"_\")\n",
    "file_name = file_name.translate(str.maketrans('', '', string.punctuation.replace('_', ''))) + '.wav'\n",
    "out_path = os.path.join(OUT_PATH, file_name)\n",
    "print(\" > Saving output to {}\".format(out_path))\n",
    "ap.save_wav(wav, out_path)"
   ]
  },
  {
   "cell_type": "code",
   "execution_count": null,
   "metadata": {
    "id": "zj-lprBuF4hF"
   },
   "outputs": [],
   "source": []
  },
  {
   "cell_type": "code",
   "execution_count": null,
   "metadata": {},
   "outputs": [],
   "source": []
  }
 ],
 "metadata": {
  "colab": {
   "collapsed_sections": [
    "33efzXGOWDx3",
    "uSgpKI-ZcVbx"
   ],
   "name": "YourTTS-zeroshot-TTS-demo.ipynb",
   "provenance": []
  },
  "kernelspec": {
   "display_name": "Python (tf-gpu-yourtts)",
   "language": "python",
   "name": "tf-gpu-yourtts"
  },
  "language_info": {
   "codemirror_mode": {
    "name": "ipython",
    "version": 3
   },
   "file_extension": ".py",
   "mimetype": "text/x-python",
   "name": "python",
   "nbconvert_exporter": "python",
   "pygments_lexer": "ipython3",
   "version": "3.8.6"
  }
 },
 "nbformat": 4,
 "nbformat_minor": 4
}
