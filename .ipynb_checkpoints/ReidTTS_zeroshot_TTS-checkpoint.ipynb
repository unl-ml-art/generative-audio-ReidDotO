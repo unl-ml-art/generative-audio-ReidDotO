{
 "cells": [
  {
   "cell_type": "markdown",
   "metadata": {},
   "source": [
    "EMAR349 ML for the Arts - Twomey - Spring 2022 - [ml.roberttwomey.com](http://ml.roberttwomey.com)"
   ]
  },
  {
   "cell_type": "markdown",
   "metadata": {
    "id": "SXNKDE_BW-Kc"
   },
   "source": [
    "# Demo zero-shot TTS with YourTTS\n",
    "\n",
    "__NOTE for OOD users__: select the `tf-gpu-yourtts` kernel.\n",
    "\n",
    "Casanova et. al, [YourTTS: Zero-Shot Multi-Speaker Text Synthesis and Voice Conversion](https://coqui.ai/blog/tts/yourtts-zero-shot-text-synthesis-low-resource-languages) (2022). \n",
    "\n",
    "Adapted from [colab example](https://colab.research.google.com/drive/1ftI0x16iqKgiQFgTjTDgRpOM1wC1U-yS?usp=sharing) to run on HCC OOD, rtwomey@unl.edu 2022"
   ]
  },
  {
   "cell_type": "markdown",
   "metadata": {
    "id": "33efzXGOWDx3"
   },
   "source": [
    "## TTS Model setup"
   ]
  },
  {
   "cell_type": "markdown",
   "metadata": {
    "id": "79YIRAJiUdE9"
   },
   "source": [
    "### Download and install Coqui TTS (__run once__)\n"
   ]
  },
  {
   "cell_type": "code",
   "execution_count": 1,
   "metadata": {
    "colab": {
     "base_uri": "https://localhost:8080/"
    },
    "id": "2akFqoi7UiD4",
    "outputId": "fd7a043b-77b6-44bf-c74f-09bbdeb2267b"
   },
   "outputs": [
    {
     "name": "stdout",
     "output_type": "stream",
     "text": [
      "Cloning into 'TTS'...\n",
      "remote: Enumerating objects: 25680, done.\u001b[K\n",
      "remote: Counting objects: 100% (1615/1615), done.\u001b[K\n",
      "remote: Compressing objects: 100% (488/488), done.\u001b[K\n",
      "remote: Total 25680 (delta 1182), reused 1397 (delta 1116), pack-reused 24065\u001b[K\n",
      "Receiving objects: 100% (25680/25680), 133.85 MiB | 43.36 MiB/s, done.\n",
      "Resolving deltas: 100% (18698/18698), done.\n"
     ]
    }
   ],
   "source": [
    "!git clone https://github.com/Edresson/Coqui-TTS -b multilingual-torchaudio-SE TTS\n",
    "# !pip install -q -e TTS/\n",
    "# !pip install -q torchaudio==0.9.0"
   ]
  },
  {
   "cell_type": "markdown",
   "metadata": {
    "id": "PaL5ju9sWPUO"
   },
   "source": [
    "### Download TTS Checkpoint\n",
    "\n",
    "__NOTE:__ I have downloaded all of these to `/home/emar349/shared/yourtts`"
   ]
  },
  {
   "cell_type": "code",
   "execution_count": 2,
   "metadata": {
    "colab": {
     "base_uri": "https://localhost:8080/"
    },
    "id": "yICxxOSZWYJb",
    "outputId": "401afa88-c970-40f4-8a65-1e98c4a5ba8e"
   },
   "outputs": [],
   "source": [
    "# # TTS checkpoints\n",
    "\n",
    "# # download config  \n",
    "# ! gdown --id 1-PfXD66l1ZpsZmJiC-vhL055CDSugLyP\n",
    "# # download language json \n",
    "# ! gdown --id 1_Vb2_XHqcC0OcvRF82F883MTxfTRmerg\n",
    "# # download speakers json\n",
    "# ! gdown --id 1SZ9GE0CBM-xGstiXH2-O2QWdmSXsBKdC -O speakers.json\n",
    "# # download checkpoint\n",
    "# ! gdown --id 1sgEjHt0lbPSEw9-FSbC_mBoOPwNi87YR -O best_model.pth.tar  "
   ]
  },
  {
   "cell_type": "markdown",
   "metadata": {
    "id": "f1sw5nDwXWRJ"
   },
   "source": [
    "### Imports"
   ]
  },
  {
   "cell_type": "code",
   "execution_count": 3,
   "metadata": {
    "id": "ajwcjsizXYF9"
   },
   "outputs": [
    {
     "name": "stderr",
     "output_type": "stream",
     "text": [
      "/work/emar349/shared/envs/tf-gpu-yourtts/lib/python3.8/site-packages/tqdm/auto.py:22: TqdmWarning: IProgress not found. Please update jupyter and ipywidgets. See https://ipywidgets.readthedocs.io/en/stable/user_install.html\n",
      "  from .autonotebook import tqdm as notebook_tqdm\n",
      "/work/emar349/shared/envs/tf-gpu-yourtts/lib/python3.8/site-packages/torchaudio/backend/utils.py:53: UserWarning: \"sox\" backend is being deprecated. The default backend will be changed to \"sox_io\" backend in 0.8.0 and \"sox\" backend will be removed in 0.9.0. Please migrate to \"sox_io\" backend. Please refer to https://github.com/pytorch/audio/issues/903 for the detail.\n",
      "  warnings.warn(\n"
     ]
    }
   ],
   "source": [
    "import sys\n",
    "TTS_PATH = \"TTS/\"\n",
    "\n",
    "# add libraries into environment\n",
    "sys.path.append(TTS_PATH) # set this if TTS is not installed globally\n",
    "\n",
    "import os\n",
    "import string\n",
    "import time\n",
    "import argparse\n",
    "import json\n",
    "\n",
    "import numpy as np\n",
    "import IPython\n",
    "from IPython.display import Audio\n",
    "\n",
    "\n",
    "import torch\n",
    "\n",
    "from TTS.tts.utils.synthesis import synthesis\n",
    "from TTS.tts.utils.text.symbols import make_symbols, phonemes, symbols\n",
    "try:\n",
    "  from TTS.utils.audio import AudioProcessor\n",
    "except:\n",
    "  from TTS.utils.audio import AudioProcessor\n",
    "\n",
    "\n",
    "from TTS.tts.models import setup_model\n",
    "from TTS.config import load_config\n",
    "from TTS.tts.models.vits import *"
   ]
  },
  {
   "cell_type": "markdown",
   "metadata": {
    "id": "vE3EDJyZXecO"
   },
   "source": [
    "### Paths definition\n",
    "\n",
    "I already downloaded the trained model checkpoints and stored the files and hyperparams in the shared path (`/home/emar349/shared/yourtts`)"
   ]
  },
  {
   "cell_type": "code",
   "execution_count": 4,
   "metadata": {
    "id": "T8NWL6h2XiBP"
   },
   "outputs": [],
   "source": [
    "OUT_PATH = 'out/'\n",
    "WAV_PATH = 'wav/'\n",
    "SHARED_PATH = \"/home/emar349/shared/yourtts/\"\n",
    "# create output path\n",
    "os.makedirs(OUT_PATH, exist_ok=True)\n",
    "os.makedirs(WAV_PATH, exist_ok=True)\n",
    "\n",
    "# model vars \n",
    "MODEL_PATH = os.path.join(SHARED_PATH, 'best_model.pth.tar')\n",
    "CONFIG_PATH = os.path.join(SHARED_PATH, 'config.json')\n",
    "TTS_LANGUAGES = os.path.join(SHARED_PATH, \"language_ids.json\")\n",
    "TTS_SPEAKERS = os.path.join(SHARED_PATH, \"speakers.json\")\n",
    "USE_CUDA = torch.cuda.is_available()"
   ]
  },
  {
   "cell_type": "markdown",
   "metadata": {
    "id": "ZVTFLUVIacVG"
   },
   "source": [
    "### Restore model"
   ]
  },
  {
   "cell_type": "code",
   "execution_count": 5,
   "metadata": {
    "colab": {
     "base_uri": "https://localhost:8080/"
    },
    "id": "ygPFBC-UafNK",
    "outputId": "cf1e3730-9e9d-42dc-bba6-a0edc19fad99"
   },
   "outputs": [
    {
     "name": "stdout",
     "output_type": "stream",
     "text": [
      " > Setting up Audio Processor...\n",
      " | > sample_rate:16000\n",
      " | > resample:False\n",
      " | > num_mels:80\n",
      " | > min_level_db:-100\n",
      " | > frame_shift_ms:None\n",
      " | > frame_length_ms:None\n",
      " | > ref_level_db:20\n",
      " | > fft_size:1024\n",
      " | > power:1.5\n",
      " | > preemphasis:0.0\n",
      " | > griffin_lim_iters:60\n",
      " | > signal_norm:False\n",
      " | > symmetric_norm:True\n",
      " | > mel_fmin:0\n",
      " | > mel_fmax:None\n",
      " | > spec_gain:1.0\n",
      " | > stft_pad_mode:reflect\n",
      " | > max_norm:4.0\n",
      " | > clip_norm:True\n",
      " | > do_trim_silence:True\n",
      " | > trim_db:45\n",
      " | > do_sound_norm:False\n",
      " | > do_amp_to_db_linear:False\n",
      " | > do_amp_to_db_mel:True\n",
      " | > stats_path:None\n",
      " | > base:2.718281828459045\n",
      " | > hop_length:256\n",
      " | > win_length:1024\n",
      " > Using model: vits\n",
      " > Speaker manager is loaded with 6 speakers: female-en-5, female-en-5\n",
      ", female-pt-4\n",
      ", male-en-2, male-en-2\n",
      ", male-pt-3\n",
      "\n"
     ]
    }
   ],
   "source": [
    "# load the config\n",
    "C = load_config(CONFIG_PATH)\n",
    "\n",
    "\n",
    "# load the audio processor\n",
    "ap = AudioProcessor(**C.audio)\n",
    "\n",
    "speaker_embedding = None\n",
    "\n",
    "C.model_args['d_vector_file'] = TTS_SPEAKERS\n",
    "C.model_args['use_speaker_encoder_as_loss'] = False\n",
    "\n",
    "model = setup_model(C)\n",
    "model.language_manager.set_language_ids_from_file(TTS_LANGUAGES)\n",
    "# print(model.language_manager.num_languages, model.embedded_language_dim)\n",
    "# print(model.emb_l)\n",
    "cp = torch.load(MODEL_PATH, map_location=torch.device('cpu'))\n",
    "# remove speaker encoder\n",
    "model_weights = cp['model'].copy()\n",
    "for key in list(model_weights.keys()):\n",
    "  if \"speaker_encoder\" in key:\n",
    "    del model_weights[key]\n",
    "\n",
    "model.load_state_dict(model_weights)\n",
    "\n",
    "\n",
    "model.eval()\n",
    "\n",
    "if USE_CUDA:\n",
    "    model = model.cuda()\n",
    "\n",
    "# synthesize voice\n",
    "use_griffin_lim = False"
   ]
  },
  {
   "cell_type": "markdown",
   "metadata": {
    "id": "uSgpKI-ZcVbx"
   },
   "source": [
    "## Speaker encoder setup"
   ]
  },
  {
   "cell_type": "markdown",
   "metadata": {
    "id": "P3TaCzONgyND"
   },
   "source": [
    "### Install helper libraries"
   ]
  },
  {
   "cell_type": "code",
   "execution_count": 6,
   "metadata": {
    "id": "mfnuqL4Zd4Zz"
   },
   "outputs": [],
   "source": [
    "# ! pip install -q pydub ffmpeg-normalize"
   ]
  },
  {
   "cell_type": "markdown",
   "metadata": {
    "id": "HJkRPcD9g2nl"
   },
   "source": [
    "### Paths definition\n",
    "\n",
    "__NOTE:__ I have downloaded these to `/home/emar349/shared/yourtts`"
   ]
  },
  {
   "cell_type": "code",
   "execution_count": 7,
   "metadata": {
    "colab": {
     "base_uri": "https://localhost:8080/"
    },
    "id": "7fRFfyZFeKuR",
    "outputId": "08395763-77c7-46de-8447-0aa1f69d0778"
   },
   "outputs": [],
   "source": [
    "CONFIG_SE_PATH = MODEL_PATH = os.path.join(SHARED_PATH, \"config_se.json\")\n",
    "CHECKPOINT_SE_PATH = MODEL_PATH = os.path.join(SHARED_PATH, \"SE_checkpoint.pth.tar\")\n",
    "\n",
    "# # download config \n",
    "# !gdown --id  19cDrhZZ0PfKf2Zhr_ebB-QASRw844Tn1 -O $CONFIG_SE_PATH\n",
    "# # download checkpoint  \n",
    "# !gdown --id   17JsW6h6TIh7-LkU2EvB_gnNrPcdBxt7X -O $CHECKPOINT_SE_PATH"
   ]
  },
  {
   "cell_type": "markdown",
   "metadata": {
    "id": "xYZ9YC_LhAjY"
   },
   "source": [
    "### Imports"
   ]
  },
  {
   "cell_type": "code",
   "execution_count": 8,
   "metadata": {
    "id": "qnWyPs7Vfxa2"
   },
   "outputs": [
    {
     "name": "stderr",
     "output_type": "stream",
     "text": [
      "/work/emar349/shared/envs/tf-gpu-yourtts/lib/python3.8/site-packages/pydub/utils.py:170: RuntimeWarning: Couldn't find ffmpeg or avconv - defaulting to ffmpeg, but may not work\n",
      "  warn(\"Couldn't find ffmpeg or avconv - defaulting to ffmpeg, but may not work\", RuntimeWarning)\n"
     ]
    }
   ],
   "source": [
    "from TTS.tts.utils.speakers import SpeakerManager\n",
    "from pydub import AudioSegment\n",
    "import librosa"
   ]
  },
  {
   "cell_type": "markdown",
   "metadata": {
    "id": "CHUPL0TahHjZ"
   },
   "source": [
    "### Load the Speaker encoder"
   ]
  },
  {
   "cell_type": "code",
   "execution_count": 9,
   "metadata": {
    "colab": {
     "base_uri": "https://localhost:8080/"
    },
    "id": "xnkL2GNXhLUs",
    "outputId": "8f759989-de20-409c-d412-330e8e5f557a"
   },
   "outputs": [
    {
     "name": "stdout",
     "output_type": "stream",
     "text": [
      " > Setting up Audio Processor...\n",
      " | > sample_rate:16000\n",
      " | > resample:False\n",
      " | > num_mels:64\n",
      " | > min_level_db:-100\n",
      " | > frame_shift_ms:None\n",
      " | > frame_length_ms:None\n",
      " | > ref_level_db:20\n",
      " | > fft_size:512\n",
      " | > power:1.5\n",
      " | > preemphasis:0.97\n",
      " | > griffin_lim_iters:60\n",
      " | > signal_norm:False\n",
      " | > symmetric_norm:False\n",
      " | > mel_fmin:0\n",
      " | > mel_fmax:8000.0\n",
      " | > spec_gain:20.0\n",
      " | > stft_pad_mode:reflect\n",
      " | > max_norm:4.0\n",
      " | > clip_norm:False\n",
      " | > do_trim_silence:False\n",
      " | > trim_db:60\n",
      " | > do_sound_norm:False\n",
      " | > do_amp_to_db_linear:True\n",
      " | > do_amp_to_db_mel:True\n",
      " | > stats_path:None\n",
      " | > base:10\n",
      " | > hop_length:160\n",
      " | > win_length:400\n"
     ]
    }
   ],
   "source": [
    "SE_speaker_manager = SpeakerManager(encoder_model_path=CHECKPOINT_SE_PATH, encoder_config_path=CONFIG_SE_PATH, use_cuda=USE_CUDA)"
   ]
  },
  {
   "cell_type": "markdown",
   "metadata": {
    "id": "yc-OM81nhDDe"
   },
   "source": [
    "###Define helper function"
   ]
  },
  {
   "cell_type": "code",
   "execution_count": 10,
   "metadata": {
    "id": "YRvXOFPKgVLi"
   },
   "outputs": [],
   "source": [
    "def compute_spec(ref_file):\n",
    "  y, sr = librosa.load(ref_file, sr=ap.sample_rate)\n",
    "  spec = ap.spectrogram(y)\n",
    "  spec = torch.FloatTensor(spec).unsqueeze(0)\n",
    "  return spec"
   ]
  },
  {
   "cell_type": "markdown",
   "metadata": {
    "id": "2KgvuzFRaql-"
   },
   "source": [
    "## TTS"
   ]
  },
  {
   "cell_type": "markdown",
   "metadata": {
    "id": "WjH5EW-E3jh1"
   },
   "source": [
    "### Upload, normalize and resample your reference wav files"
   ]
  },
  {
   "attachments": {
    "23ef7a2c-17df-4e21-b414-75494a40ef8a.png": {
     "image/png": "[encoded data removed]"
    }
   },
   "cell_type": "markdown",
   "metadata": {
    "id": "KugzDPUbYtgM"
   },
   "source": [
    "Please upload wav files to `wav` folder at left. Aim for 40-120 seconds of audio, minimum. More audio may not be better (this is \"zero shot learning\", but you can explore.\n",
    "\n",
    "![image.png](attachment:23ef7a2c-17df-4e21-b414-75494a40ef8a.png)"
   ]
  },
  {
   "cell_type": "code",
   "execution_count": 11,
   "metadata": {},
   "outputs": [
    {
     "name": "stdout",
     "output_type": "stream",
     "text": [
      "['wav/clip7.wav', 'wav/clip6.wav', 'wav/clip1.wav', 'wav/clip8.wav', 'wav/clip2.wav', 'wav/clip5.wav', 'wav/clip4.wav', 'wav/clip3.wav']\n"
     ]
    }
   ],
   "source": [
    "from os import listdir\n",
    "from os.path import isfile, join\n",
    "\n",
    "mypath = \"wav\"\n",
    "reference_files = [join(mypath, f) for f in listdir(mypath) if isfile(join(mypath, f))]\n",
    "print(reference_files)"
   ]
  },
  {
   "cell_type": "markdown",
   "metadata": {},
   "source": [
    "normalization does not work yet on OOD"
   ]
  },
  {
   "cell_type": "code",
   "execution_count": 12,
   "metadata": {
    "colab": {
     "base_uri": "https://localhost:8080/",
     "height": 90,
     "resources": {
      "http://localhost:8080/nbextensions/google.colab/files.js": {
       "data": "Ly8gQ29weXJpZ2h0IDIwMTcgR29vZ2xlIExMQwovLwovLyBMaWNlbnNlZCB1bmRlciB0aGUgQXBhY2hlIExpY2Vuc2UsIFZlcnNpb24gMi4wICh0aGUgIkxpY2Vuc2UiKTsKLy8geW91IG1heSBub3QgdXNlIHRoaXMgZmlsZSBleGNlcHQgaW4gY29tcGxpYW5jZSB3aXRoIHRoZSBMaWNlbnNlLgovLyBZb3UgbWF5IG9idGFpbiBhIGNvcHkgb2YgdGhlIExpY2Vuc2UgYXQKLy8KLy8gICAgICBodHRwOi8vd3d3LmFwYWNoZS5vcmcvbGljZW5zZXMvTElDRU5TRS0yLjAKLy8KLy8gVW5sZXNzIHJlcXVpcmVkIGJ5IGFwcGxpY2FibGUgbGF3IG9yIGFncmVlZCB0byBpbiB3cml0aW5nLCBzb2Z0d2FyZQovLyBkaXN0cmlidXRlZCB1bmRlciB0aGUgTGljZW5zZSBpcyBkaXN0cmlidXRlZCBvbiBhbiAiQVMgSVMiIEJBU0lTLAovLyBXSVRIT1VUIFdBUlJBTlRJRVMgT1IgQ09ORElUSU9OUyBPRiBBTlkgS0lORCwgZWl0aGVyIGV4cHJlc3Mgb3IgaW1wbGllZC4KLy8gU2VlIHRoZSBMaWNlbnNlIGZvciB0aGUgc3BlY2lmaWMgbGFuZ3VhZ2UgZ292ZXJuaW5nIHBlcm1pc3Npb25zIGFuZAovLyBsaW1pdGF0aW9ucyB1bmRlciB0aGUgTGljZW5zZS4KCi8qKgogKiBAZmlsZW92ZXJ2aWV3IEhlbHBlcnMgZm9yIGdvb2dsZS5jb2xhYiBQeXRob24gbW9kdWxlLgogKi8KKGZ1bmN0aW9uKHNjb3BlKSB7CmZ1bmN0aW9uIHNwYW4odGV4dCwgc3R5bGVBdHRyaWJ1dGVzID0ge30pIHsKICBjb25zdCBlbGVtZW50ID0gZG9jdW1lbnQuY3JlYXRlRWxlbWVudCgnc3BhbicpOwogIGVsZW1lbnQudGV4dENvbnRlbnQgPSB0ZXh0OwogIGZvciAoY29uc3Qga2V5IG9mIE9iamVjdC5rZXlzKHN0eWxlQXR0cmlidXRlcykpIHsKICAgIGVsZW1lbnQuc3R5bGVba2V5XSA9IHN0eWxlQXR0cmlidXRlc1trZXldOwogIH0KICByZXR1cm4gZWxlbWVudDsKfQoKLy8gTWF4IG51bWJlciBvZiBieXRlcyB3aGljaCB3aWxsIGJlIHVwbG9hZGVkIGF0IGEgdGltZS4KY29uc3QgTUFYX1BBWUxPQURfU0laRSA9IDEwMCAqIDEwMjQ7CgpmdW5jdGlvbiBfdXBsb2FkRmlsZXMoaW5wdXRJZCwgb3V0cHV0SWQpIHsKICBjb25zdCBzdGVwcyA9IHVwbG9hZEZpbGVzU3RlcChpbnB1dElkLCBvdXRwdXRJZCk7CiAgY29uc3Qgb3V0cHV0RWxlbWVudCA9IGRvY3VtZW50LmdldEVsZW1lbnRCeUlkKG91dHB1dElkKTsKICAvLyBDYWNoZSBzdGVwcyBvbiB0aGUgb3V0cHV0RWxlbWVudCB0byBtYWtlIGl0IGF2YWlsYWJsZSBmb3IgdGhlIG5leHQgY2FsbAogIC8vIHRvIHVwbG9hZEZpbGVzQ29udGludWUgZnJvbSBQeXRob24uCiAgb3V0cHV0RWxlbWVudC5zdGVwcyA9IHN0ZXBzOwoKICByZXR1cm4gX3VwbG9hZEZpbGVzQ29udGludWUob3V0cHV0SWQpOwp9CgovLyBUaGlzIGlzIHJvdWdobHkgYW4gYXN5bmMgZ2VuZXJhdG9yIChub3Qgc3VwcG9ydGVkIGluIHRoZSBicm93c2VyIHlldCksCi8vIHdoZXJlIHRoZXJlIGFyZSBtdWx0aXBsZSBhc3luY2hyb25vdXMgc3RlcHMgYW5kIHRoZSBQeXRob24gc2lkZSBpcyBnb2luZwovLyB0byBwb2xsIGZvciBjb21wbGV0aW9uIG9mIGVhY2ggc3RlcC4KLy8gVGhpcyB1c2VzIGEgUHJvbWlzZSB0byBibG9jayB0aGUgcHl0aG9uIHNpZGUgb24gY29tcGxldGlvbiBvZiBlYWNoIHN0ZXAsCi8vIHRoZW4gcGFzc2VzIHRoZSByZXN1bHQgb2YgdGhlIHByZXZpb3VzIHN0ZXAgYXMgdGhlIGlucHV0IHRvIHRoZSBuZXh0IHN0ZXAuCmZ1bmN0aW9uIF91cGxvYWRGaWxlc0NvbnRpbnVlKG91dHB1dElkKSB7CiAgY29uc3Qgb3V0cHV0RWxlbWVudCA9IGRvY3VtZW50LmdldEVsZW1lbnRCeUlkKG91dHB1dElkKTsKICBjb25zdCBzdGVwcyA9IG91dHB1dEVsZW1lbnQuc3RlcHM7CgogIGNvbnN0IG5leHQgPSBzdGVwcy5uZXh0KG91dHB1dEVsZW1lbnQubGFzdFByb21pc2VWYWx1ZSk7CiAgcmV0dXJuIFByb21pc2UucmVzb2x2ZShuZXh0LnZhbHVlLnByb21pc2UpLnRoZW4oKHZhbHVlKSA9PiB7CiAgICAvLyBDYWNoZSB0aGUgbGFzdCBwcm9taXNlIHZhbHVlIHRvIG1ha2UgaXQgYXZhaWxhYmxlIHRvIHRoZSBuZXh0CiAgICAvLyBzdGVwIG9mIHRoZSBnZW5lcmF0b3IuCiAgICBvdXRwdXRFbGVtZW50Lmxhc3RQcm9taXNlVmFsdWUgPSB2YWx1ZTsKICAgIHJldHVybiBuZXh0LnZhbHVlLnJlc3BvbnNlOwogIH0pOwp9CgovKioKICogR2VuZXJhdG9yIGZ1bmN0aW9uIHdoaWNoIGlzIGNhbGxlZCBiZXR3ZWVuIGVhY2ggYXN5bmMgc3RlcCBvZiB0aGUgdXBsb2FkCiAqIHByb2Nlc3MuCiAqIEBwYXJhbSB7c3RyaW5nfSBpbnB1dElkIEVsZW1lbnQgSUQgb2YgdGhlIGlucHV0IGZpbGUgcGlja2VyIGVsZW1lbnQuCiAqIEBwYXJhbSB7c3RyaW5nfSBvdXRwdXRJZCBFbGVtZW50IElEIG9mIHRoZSBvdXRwdXQgZGlzcGxheS4KICogQHJldHVybiB7IUl0ZXJhYmxlPCFPYmplY3Q+fSBJdGVyYWJsZSBvZiBuZXh0IHN0ZXBzLgogKi8KZnVuY3Rpb24qIHVwbG9hZEZpbGVzU3RlcChpbnB1dElkLCBvdXRwdXRJZCkgewogIGNvbnN0IGlucHV0RWxlbWVudCA9IGRvY3VtZW50LmdldEVsZW1lbnRCeUlkKGlucHV0SWQpOwogIGlucHV0RWxlbWVudC5kaXNhYmxlZCA9IGZhbHNlOwoKICBjb25zdCBvdXRwdXRFbGVtZW50ID0gZG9jdW1lbnQuZ2V0RWxlbWVudEJ5SWQob3V0cHV0SWQpOwogIG91dHB1dEVsZW1lbnQuaW5uZXJIVE1MID0gJyc7CgogIGNvbnN0IHBpY2tlZFByb21pc2UgPSBuZXcgUHJvbWlzZSgocmVzb2x2ZSkgPT4gewogICAgaW5wdXRFbGVtZW50LmFkZEV2ZW50TGlzdGVuZXIoJ2NoYW5nZScsIChlKSA9PiB7CiAgICAgIHJlc29sdmUoZS50YXJnZXQuZmlsZXMpOwogICAgfSk7CiAgfSk7CgogIGNvbnN0IGNhbmNlbCA9IGRvY3VtZW50LmNyZWF0ZUVsZW1lbnQoJ2J1dHRvbicpOwogIGlucHV0RWxlbWVudC5wYXJlbnRFbGVtZW50LmFwcGVuZENoaWxkKGNhbmNlbCk7CiAgY2FuY2VsLnRleHRDb250ZW50ID0gJ0NhbmNlbCB1cGxvYWQnOwogIGNvbnN0IGNhbmNlbFByb21pc2UgPSBuZXcgUHJvbWlzZSgocmVzb2x2ZSkgPT4gewogICAgY2FuY2VsLm9uY2xpY2sgPSAoKSA9PiB7CiAgICAgIHJlc29sdmUobnVsbCk7CiAgICB9OwogIH0pOwoKICAvLyBXYWl0IGZvciB0aGUgdXNlciB0byBwaWNrIHRoZSBmaWxlcy4KICBjb25zdCBmaWxlcyA9IHlpZWxkIHsKICAgIHByb21pc2U6IFByb21pc2UucmFjZShbcGlja2VkUHJvbWlzZSwgY2FuY2VsUHJvbWlzZV0pLAogICAgcmVzcG9uc2U6IHsKICAgICAgYWN0aW9uOiAnc3RhcnRpbmcnLAogICAgfQogIH07CgogIGNhbmNlbC5yZW1vdmUoKTsKCiAgLy8gRGlzYWJsZSB0aGUgaW5wdXQgZWxlbWVudCBzaW5jZSBmdXJ0aGVyIHBpY2tzIGFyZSBub3QgYWxsb3dlZC4KICBpbnB1dEVsZW1lbnQuZGlzYWJsZWQgPSB0cnVlOwoKICBpZiAoIWZpbGVzKSB7CiAgICByZXR1cm4gewogICAgICByZXNwb25zZTogewogICAgICAgIGFjdGlvbjogJ2NvbXBsZXRlJywKICAgICAgfQogICAgfTsKICB9CgogIGZvciAoY29uc3QgZmlsZSBvZiBmaWxlcykgewogICAgY29uc3QgbGkgPSBkb2N1bWVudC5jcmVhdGVFbGVtZW50KCdsaScpOwogICAgbGkuYXBwZW5kKHNwYW4oZmlsZS5uYW1lLCB7Zm9udFdlaWdodDogJ2JvbGQnfSkpOwogICAgbGkuYXBwZW5kKHNwYW4oCiAgICAgICAgYCgke2ZpbGUudHlwZSB8fCAnbi9hJ30pIC0gJHtmaWxlLnNpemV9IGJ5dGVzLCBgICsKICAgICAgICBgbGFzdCBtb2RpZmllZDogJHsKICAgICAgICAgICAgZmlsZS5sYXN0TW9kaWZpZWREYXRlID8gZmlsZS5sYXN0TW9kaWZpZWREYXRlLnRvTG9jYWxlRGF0ZVN0cmluZygpIDoKICAgICAgICAgICAgICAgICAgICAgICAgICAgICAgICAgICAgJ24vYSd9IC0gYCkpOwogICAgY29uc3QgcGVyY2VudCA9IHNwYW4oJzAlIGRvbmUnKTsKICAgIGxpLmFwcGVuZENoaWxkKHBlcmNlbnQpOwoKICAgIG91dHB1dEVsZW1lbnQuYXBwZW5kQ2hpbGQobGkpOwoKICAgIGNvbnN0IGZpbGVEYXRhUHJvbWlzZSA9IG5ldyBQcm9taXNlKChyZXNvbHZlKSA9PiB7CiAgICAgIGNvbnN0IHJlYWRlciA9IG5ldyBGaWxlUmVhZGVyKCk7CiAgICAgIHJlYWRlci5vbmxvYWQgPSAoZSkgPT4gewogICAgICAgIHJlc29sdmUoZS50YXJnZXQucmVzdWx0KTsKICAgICAgfTsKICAgICAgcmVhZGVyLnJlYWRBc0FycmF5QnVmZmVyKGZpbGUpOwogICAgfSk7CiAgICAvLyBXYWl0IGZvciB0aGUgZGF0YSB0byBiZSByZWFkeS4KICAgIGxldCBmaWxlRGF0YSA9IHlpZWxkIHsKICAgICAgcHJvbWlzZTogZmlsZURhdGFQcm9taXNlLAogICAgICByZXNwb25zZTogewogICAgICAgIGFjdGlvbjogJ2NvbnRpbnVlJywKICAgICAgfQogICAgfTsKCiAgICAvLyBVc2UgYSBjaHVua2VkIHNlbmRpbmcgdG8gYXZvaWQgbWVzc2FnZSBzaXplIGxpbWl0cy4gU2VlIGIvNjIxMTU2NjAuCiAgICBsZXQgcG9zaXRpb24gPSAwOwogICAgZG8gewogICAgICBjb25zdCBsZW5ndGggPSBNYXRoLm1pbihmaWxlRGF0YS5ieXRlTGVuZ3RoIC0gcG9zaXRpb24sIE1BWF9QQVlMT0FEX1NJWkUpOwogICAgICBjb25zdCBjaHVuayA9IG5ldyBVaW50OEFycmF5KGZpbGVEYXRhLCBwb3NpdGlvbiwgbGVuZ3RoKTsKICAgICAgcG9zaXRpb24gKz0gbGVuZ3RoOwoKICAgICAgY29uc3QgYmFzZTY0ID0gYnRvYShTdHJpbmcuZnJvbUNoYXJDb2RlLmFwcGx5KG51bGwsIGNodW5rKSk7CiAgICAgIHlpZWxkIHsKICAgICAgICByZXNwb25zZTogewogICAgICAgICAgYWN0aW9uOiAnYXBwZW5kJywKICAgICAgICAgIGZpbGU6IGZpbGUubmFtZSwKICAgICAgICAgIGRhdGE6IGJhc2U2NCwKICAgICAgICB9LAogICAgICB9OwoKICAgICAgbGV0IHBlcmNlbnREb25lID0gZmlsZURhdGEuYnl0ZUxlbmd0aCA9PT0gMCA/CiAgICAgICAgICAxMDAgOgogICAgICAgICAgTWF0aC5yb3VuZCgocG9zaXRpb24gLyBmaWxlRGF0YS5ieXRlTGVuZ3RoKSAqIDEwMCk7CiAgICAgIHBlcmNlbnQudGV4dENvbnRlbnQgPSBgJHtwZXJjZW50RG9uZX0lIGRvbmVgOwoKICAgIH0gd2hpbGUgKHBvc2l0aW9uIDwgZmlsZURhdGEuYnl0ZUxlbmd0aCk7CiAgfQoKICAvLyBBbGwgZG9uZS4KICB5aWVsZCB7CiAgICByZXNwb25zZTogewogICAgICBhY3Rpb246ICdjb21wbGV0ZScsCiAgICB9CiAgfTsKfQoKc2NvcGUuZ29vZ2xlID0gc2NvcGUuZ29vZ2xlIHx8IHt9OwpzY29wZS5nb29nbGUuY29sYWIgPSBzY29wZS5nb29nbGUuY29sYWIgfHwge307CnNjb3BlLmdvb2dsZS5jb2xhYi5fZmlsZXMgPSB7CiAgX3VwbG9hZEZpbGVzLAogIF91cGxvYWRGaWxlc0NvbnRpbnVlLAp9Owp9KShzZWxmKTsK",
       "headers": [
        [
         "content-type",
         "application/javascript"
        ]
       ],
       "ok": true,
       "status": 200,
       "status_text": ""
      }
     }
    },
    "id": "vqUWMEZc2Biz",
    "outputId": "9ed6bb35-de30-4b03-e7eb-444595a8d4cb"
   },
   "outputs": [],
   "source": [
    "# for sample in reference_files:\n",
    "#     !ffmpeg-normalize $sample -nt rms -t=-27 -o $sample -ar 16000 -f"
   ]
  },
  {
   "cell_type": "markdown",
   "metadata": {
    "id": "zA-2jVOR3oCQ"
   },
   "source": [
    "### Compute embedding"
   ]
  },
  {
   "cell_type": "code",
   "execution_count": 13,
   "metadata": {
    "id": "Ag_LhDHc2H61"
   },
   "outputs": [
    {
     "name": "stderr",
     "output_type": "stream",
     "text": [
      "/work/emar349/shared/envs/tf-gpu-yourtts/lib/python3.8/site-packages/torch/functional.py:515: UserWarning: stft will require the return_complex parameter be explicitly  specified in a future PyTorch release. Use return_complex=False  to preserve the current behavior or return_complex=True to return  a complex output. (Triggered internally at  /opt/conda/conda-bld/pytorch_1607370117127/work/aten/src/ATen/native/SpectralOps.cpp:653.)\n",
      "  return _VF.stft(input, n_fft, hop_length, win_length, window,  # type: ignore\n",
      "/work/emar349/shared/envs/tf-gpu-yourtts/lib/python3.8/site-packages/torch/functional.py:515: UserWarning: The function torch.rfft is deprecated and will be removed in a future PyTorch release. Use the new torch.fft module functions, instead, by importing torch.fft and calling torch.fft.fft or torch.fft.rfft. (Triggered internally at  /opt/conda/conda-bld/pytorch_1607370117127/work/aten/src/ATen/native/SpectralOps.cpp:590.)\n",
      "  return _VF.stft(input, n_fft, hop_length, win_length, window,  # type: ignore\n"
     ]
    }
   ],
   "source": [
    "reference_emb = SE_speaker_manager.compute_d_vector_from_clip(reference_files)"
   ]
  },
  {
   "cell_type": "markdown",
   "metadata": {
    "id": "boZL8mW03uWm"
   },
   "source": [
    "### Define inference variables"
   ]
  },
  {
   "cell_type": "code",
   "execution_count": 138,
   "metadata": {
    "id": "XtPraqy3augC",
    "tags": []
   },
   "outputs": [],
   "source": [
    "model.length_scale = 1.25  # scaler for the duration predictor. The larger it is, the slower the speech.\n",
    "model.inference_noise_scale = 0.2 # defines the noise variance applied to the random z vector at inference.\n",
    "model.inference_noise_scale_dp = 0.3 # defines the noise variance applied to the duration predictor z vector at inference.\n",
    "text = \"I love it so much\""
   ]
  },
  {
   "cell_type": "markdown",
   "metadata": {
    "id": "Ie4fU3Oz330K"
   },
   "source": [
    "### Chose language id"
   ]
  },
  {
   "cell_type": "code",
   "execution_count": 139,
   "metadata": {
    "colab": {
     "base_uri": "https://localhost:8080/"
    },
    "id": "YDgjXG0DbLWN",
    "outputId": "9e3f28e9-ccd5-4584-be5d-26ae2300158b"
   },
   "outputs": [
    {
     "data": {
      "text/plain": [
       "{'en': 0, 'fr-fr': 1, 'pt-br': 2}"
      ]
     },
     "execution_count": 139,
     "metadata": {},
     "output_type": "execute_result"
    }
   ],
   "source": [
    "model.language_manager.language_id_mapping"
   ]
  },
  {
   "cell_type": "code",
   "execution_count": 140,
   "metadata": {
    "id": "tdCvHScgbmim"
   },
   "outputs": [],
   "source": [
    "language_id = 0"
   ]
  },
  {
   "cell_type": "markdown",
   "metadata": {
    "id": "u9F1nRKo4Sgz"
   },
   "source": [
    "### Sythesis"
   ]
  },
  {
   "cell_type": "code",
   "execution_count": 141,
   "metadata": {
    "colab": {
     "base_uri": "https://localhost:8080/",
     "height": 127
    },
    "id": "5hCmeGiNbRi3",
    "outputId": "dddbcd50-a570-47ee-f94d-7a3f9acf5706"
   },
   "outputs": [
    {
     "name": "stdout",
     "output_type": "stream",
     "text": [
      " > text: I love it so much\n",
      "Generated Audio\n"
     ]
    },
    {
     "data": {
      "text/html": [
       "\n",
       "                <audio  controls=\"controls\" >\n",
       "                    <source src=\"data:audio/wav;base64,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\" type=\"audio/wav\" />\n",
       "                    Your browser does not support the audio element.\n",
       "                </audio>\n",
       "              "
      ],
      "text/plain": [
       "<IPython.lib.display.Audio object>"
      ]
     },
     "metadata": {},
     "output_type": "display_data"
    },
    {
     "name": "stdout",
     "output_type": "stream",
     "text": [
      " > Saving output to out/I_love_it_so_much.wav\n"
     ]
    }
   ],
   "source": [
    "print(\" > text: {}\".format(text))\n",
    "wav, alignment, _, _ = synthesis(\n",
    "                    model,\n",
    "                    text,\n",
    "                    C,\n",
    "                    \"cuda\" in str(next(model.parameters()).device),\n",
    "                    ap,\n",
    "                    speaker_id=None,\n",
    "                    d_vector=reference_emb,\n",
    "                    style_wav=None,\n",
    "                    language_id=language_id,\n",
    "                    enable_eos_bos_chars=C.enable_eos_bos_chars,\n",
    "                    use_griffin_lim=True,\n",
    "                    do_trim_silence=False,\n",
    "                ).values()\n",
    "print(\"Generated Audio\")\n",
    "IPython.display.display(Audio(wav, rate=ap.sample_rate))\n",
    "file_name = text.replace(\" \", \"_\")\n",
    "file_name = file_name.translate(str.maketrans('', '', string.punctuation.replace('_', ''))) + '.wav'\n",
    "out_path = os.path.join(OUT_PATH, file_name)\n",
    "print(\" > Saving output to {}\".format(out_path))\n",
    "ap.save_wav(wav, out_path)"
   ]
  },
  {
   "cell_type": "code",
   "execution_count": null,
   "metadata": {
    "id": "zj-lprBuF4hF"
   },
   "outputs": [],
   "source": []
  },
  {
   "cell_type": "code",
   "execution_count": null,
   "metadata": {},
   "outputs": [],
   "source": []
  }
 ],
 "metadata": {
  "colab": {
   "collapsed_sections": [
    "33efzXGOWDx3",
    "uSgpKI-ZcVbx"
   ],
   "name": "YourTTS-zeroshot-TTS-demo.ipynb",
   "provenance": []
  },
  "kernelspec": {
   "display_name": "Python (tf-gpu-yourtts)",
   "language": "python",
   "name": "tf-gpu-yourtts"
  },
  "language_info": {
   "codemirror_mode": {
    "name": "ipython",
    "version": 3
   },
   "file_extension": ".py",
   "mimetype": "text/x-python",
   "name": "python",
   "nbconvert_exporter": "python",
   "pygments_lexer": "ipython3",
   "version": "3.8.6"
  }
 },
 "nbformat": 4,
 "nbformat_minor": 4
}
